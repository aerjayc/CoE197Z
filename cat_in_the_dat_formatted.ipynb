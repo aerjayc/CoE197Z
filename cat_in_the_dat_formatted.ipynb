{
  "nbformat": 4,
  "nbformat_minor": 0,
  "metadata": {
    "colab": {
      "name": "cat-in-the-dat-formatted.ipynb",
      "version": "0.3.2",
      "provenance": [],
      "include_colab_link": true
    },
    "kernelspec": {
      "name": "python3",
      "display_name": "Python 3"
    }
  },
  "cells": [
    {
      "cell_type": "markdown",
      "metadata": {
        "id": "view-in-github",
        "colab_type": "text"
      },
      "source": [
        "<a href=\"https://colab.research.google.com/github/aerjayc/CoE197Z/blob/master/cat_in_the_dat_formatted.ipynb\" target=\"_parent\"><img src=\"https://colab.research.google.com/assets/colab-badge.svg\" alt=\"Open In Colab\"/></a>"
      ]
    },
    {
      "cell_type": "code",
      "metadata": {
        "id": "W_5PWn85vPYX",
        "colab_type": "code",
        "colab": {}
      },
      "source": [
        "!git clone https://github.com/aerjayc/CoE197Z.git\n",
        "!cp \"CoE197Z/train.csv\" .\n",
        "!cp \"CoE197Z/test.csv\" .\n",
        "!cp \"CoE197Z/sample_submission.csv\" .\n",
        "!ls"
      ],
      "execution_count": 0,
      "outputs": []
    },
    {
      "cell_type": "markdown",
      "metadata": {
        "id": "BftyFw_awKG_",
        "colab_type": "text"
      },
      "source": [
        "### Structure of the data:\n",
        "\n",
        "* Columns: \n",
        "    * `id`: unique integer associated with each entry\n",
        "    * `bin_*` $\\in \\{0,1\\}$\n",
        "        * binary value\n",
        "        * there are 5 of these (`bin_0`, ..., `bin_4`)\n",
        "    * `nom_*`: _unordered_ values\n",
        "        * `nom_0`: 3 unique values (colors)\n",
        "        * `nom_1`: 6 unique values (shapes)\n",
        "        * `nom_2`: 6 unique values (animals)\n",
        "        * `nom_3`: 6 unique values (countries)\n",
        "        * `nom_4`: 4 unique values (instruments)\n",
        "        * `nom_5`: 222 unique values\n",
        "        * `nom_6`: 522 unique values\n",
        "        * `nom_7`: 1220 unique values\n",
        "        * `nom_8`: 2215 unique values\n",
        "        * `nom_6`: 11981 unique values\n",
        "    * `ord_*`: _ordered_ values\n",
        "        * `ord_0` $\\in \\{ 1, 2, 3 \\}$\n",
        "        * `ord_1` $\\in \\{$ `Novice`, `Contributor`, `Expert`, `Master`, `Grandmaster` $\\}$\n",
        "        * `ord_2` $\\in \\{$ `Freezing`, `Cold`, `Warm`, `Hot`, `Boiling Hot`, `Lava Hot` $\\}$\n",
        "        * `ord_3`: 15 unique values (lowercase letters)\n",
        "        * `ord_4`: 26 unique values (uppercase letters)\n",
        "        * `ord_5`: 192 unique values (two-letter combinations)\n",
        "    * `day` $\\in \\{ 1, 2, 3, ..., 7 \\}$\n",
        "    * `month` $\\in \\{ 1, 2, 3, ..., 12  \\}$\n",
        "    * `target` $\\in \\{0,1\\}$\n",
        "        * the value we want to predict"
      ]
    },
    {
      "cell_type": "code",
      "metadata": {
        "id": "HbPZBvsrvYy7",
        "colab_type": "code",
        "colab": {}
      },
      "source": [
        "import pandas as pd\n",
        "\n",
        "# import train data\n",
        "data = pd.read_csv(\"train.csv\")"
      ],
      "execution_count": 0,
      "outputs": []
    },
    {
      "cell_type": "markdown",
      "metadata": {
        "id": "55vZpA1Cv7Qw",
        "colab_type": "text"
      },
      "source": [
        "### Preprocessing the data\n",
        "\n",
        "* Binary Data\n",
        "    * All binary data are already in 1-hot encoding. so there's no need for any preprocessing\n",
        "* Nominal Data\n",
        "    * These can be converted into 1-hot encoding\n",
        "* Ordinal Data\n",
        "    * This should be manually labeled according to their rank (e.g. `Freezing < Cold < Warm < ...`), then normalized to have a range of $[0,1]$\n",
        "    * From the `cat-in-the-dat` page [here](https://www.kaggle.com/c/cat-in-the-dat/data):\n",
        "        * \"The string ordinal features `ord_{3-5}` are lexically ordered according to `string.ascii_letters`.\"\n",
        "* `Day` and `Month`\n",
        "    * I don't know how to deal with this yet. They aren't independent, so we shouldn't process them separately. (Maybe we could, idk. Thoughts?)"
      ]
    },
    {
      "cell_type": "code",
      "metadata": {
        "id": "a3_r7Xetvsc3",
        "colab_type": "code",
        "colab": {}
      },
      "source": [
        ""
      ],
      "execution_count": 0,
      "outputs": []
    }
  ]
}