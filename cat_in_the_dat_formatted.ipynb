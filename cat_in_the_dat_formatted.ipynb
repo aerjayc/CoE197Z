{
  "nbformat": 4,
  "nbformat_minor": 0,
  "metadata": {
    "colab": {
      "name": "cat-in-the-dat-formatted.ipynb",
      "version": "0.3.2",
      "provenance": [],
      "include_colab_link": true
    },
    "kernelspec": {
      "name": "python3",
      "display_name": "Python 3"
    },
    "accelerator": "GPU"
  },
  "cells": [
    {
      "cell_type": "markdown",
      "metadata": {
        "id": "view-in-github",
        "colab_type": "text"
      },
      "source": [
        "<a href=\"https://colab.research.google.com/github/aerjayc/CoE197Z/blob/master/cat_in_the_dat_formatted.ipynb\" target=\"_parent\"><img src=\"https://colab.research.google.com/assets/colab-badge.svg\" alt=\"Open In Colab\"/></a>"
      ]
    },
    {
      "cell_type": "markdown",
      "metadata": {
        "id": "aS6IXc-69a-a",
        "colab_type": "text"
      },
      "source": [
        "###Downloading the dataset"
      ]
    },
    {
      "cell_type": "code",
      "metadata": {
        "id": "W_5PWn85vPYX",
        "colab_type": "code",
        "colab": {
          "base_uri": "https://localhost:8080/",
          "height": 136
        },
        "outputId": "d9521b29-4374-4cdf-da35-14f7978a5a4e"
      },
      "source": [
        "!git clone https://github.com/aerjayc/CoE197Z.git\n",
        "!cp \"CoE197Z/train.csv\" .\n",
        "!cp \"CoE197Z/test.csv\" .\n",
        "!cp \"CoE197Z/sample_submission.csv\" .\n",
        "!ls"
      ],
      "execution_count": 1,
      "outputs": [
        {
          "output_type": "stream",
          "text": [
            "Cloning into 'CoE197Z'...\n",
            "remote: Enumerating objects: 26, done.\u001b[K\n",
            "remote: Counting objects: 100% (26/26), done.\u001b[K\n",
            "remote: Compressing objects: 100% (23/23), done.\u001b[K\n",
            "remote: Total 26 (delta 6), reused 12 (delta 1), pack-reused 0\u001b[K\n",
            "Unpacking objects: 100% (26/26), done.\n",
            "CoE197Z  sample_data  sample_submission.csv  test.csv  train.csv\n"
          ],
          "name": "stdout"
        }
      ]
    },
    {
      "cell_type": "markdown",
      "metadata": {
        "id": "BftyFw_awKG_",
        "colab_type": "text"
      },
      "source": [
        "### Structure of the data:\n",
        "\n",
        "* Columns: \n",
        "    * `id`: unique integer associated with each entry\n",
        "    * `bin_*` binary values\n",
        "        * `bin_0`, `bin_1`, `bin_2`: $\\in \\{0,1\\}$\n",
        "        * `bin_3`: $\\in \\{T,F\\}$\n",
        "        * `bin_4`: $\\in \\{Y,N\\}$\n",
        "    * `nom_*`: _unordered_ values\n",
        "        * `nom_0`: 3 unique values (colors)\n",
        "        * `nom_1`: 6 unique values (shapes)\n",
        "        * `nom_2`: 6 unique values (animals)\n",
        "        * `nom_3`: 6 unique values (countries)\n",
        "        * `nom_4`: 4 unique values (instruments)\n",
        "        * `nom_5`: 222 unique values\n",
        "        * `nom_6`: 522 unique values\n",
        "        * `nom_7`: 1220 unique values\n",
        "        * `nom_8`: 2215 unique values\n",
        "        * `nom_6`: 11981 unique values\n",
        "    * `ord_*`: _ordered_ values\n",
        "        * `ord_0` $\\in \\{ 1, 2, 3 \\}$\n",
        "        * `ord_1` $\\in \\{$ `Novice`, `Contributor`, `Expert`, `Master`, `Grandmaster` $\\}$\n",
        "        * `ord_2` $\\in \\{$ `Freezing`, `Cold`, `Warm`, `Hot`, `Boiling Hot`, `Lava Hot` $\\}$\n",
        "        * `ord_3`: 15 unique values (lowercase letters)\n",
        "        * `ord_4`: 26 unique values (uppercase letters)\n",
        "        * `ord_5`: 192 unique values (two-letter combinations)\n",
        "    * `day` $\\in \\{ 1, 2, 3, ..., 7 \\}$\n",
        "    * `month` $\\in \\{ 1, 2, 3, ..., 12  \\}$\n",
        "    * `target` $\\in \\{0,1\\}$\n",
        "        * the value we want to predict"
      ]
    },
    {
      "cell_type": "code",
      "metadata": {
        "id": "HbPZBvsrvYy7",
        "colab_type": "code",
        "colab": {}
      },
      "source": [
        "import pandas as pd\n",
        "\n",
        "# import train data\n",
        "#raw_data = pd.read_csv(\"train.csv\")\n",
        "data = pd.read_csv(\"train.csv\")"
      ],
      "execution_count": 0,
      "outputs": []
    },
    {
      "cell_type": "markdown",
      "metadata": {
        "id": "55vZpA1Cv7Qw",
        "colab_type": "text"
      },
      "source": [
        "### Preprocessing the data\n",
        "\n",
        "* Binary Data\n",
        "    * `bin 0`-`bin_2` binary data are already in 1-hot encoding\n",
        "    * `bin_3`, `bin_4` needs to be transformed so each element is either `0` or `1`\n",
        "* Nominal Data\n",
        "    * These can be easily converted into 1-hot encoding\n",
        "* Ordinal Data\n",
        "    * This should be manually labeled according to their rank (e.g. `Freezing < Cold < Warm < ...`), then normalized to have a range of $[0,1]$\n",
        "    * From the `cat-in-the-dat` page [here](https://www.kaggle.com/c/cat-in-the-dat/data):\n",
        "        * \"The string ordinal features `ord_{3-5}` are lexically ordered according to `string.ascii_letters`.\"\n",
        "* `Day` and `Month`\n",
        "    * I don't know how to deal with this yet. They aren't independent, so we shouldn't process them separately. (Maybe we could, idk. Thoughts?)"
      ]
    },
    {
      "cell_type": "code",
      "metadata": {
        "id": "S0nEs8oEIGf8",
        "colab_type": "code",
        "colab": {
          "base_uri": "https://localhost:8080/",
          "height": 258
        },
        "outputId": "87ac861d-d216-4900-bd14-fa001a8c3b9a"
      },
      "source": [
        "data.head()"
      ],
      "execution_count": 38,
      "outputs": [
        {
          "output_type": "execute_result",
          "data": {
            "text/html": [
              "<div>\n",
              "<style scoped>\n",
              "    .dataframe tbody tr th:only-of-type {\n",
              "        vertical-align: middle;\n",
              "    }\n",
              "\n",
              "    .dataframe tbody tr th {\n",
              "        vertical-align: top;\n",
              "    }\n",
              "\n",
              "    .dataframe thead th {\n",
              "        text-align: right;\n",
              "    }\n",
              "</style>\n",
              "<table border=\"1\" class=\"dataframe\">\n",
              "  <thead>\n",
              "    <tr style=\"text-align: right;\">\n",
              "      <th></th>\n",
              "      <th>id</th>\n",
              "      <th>bin_0</th>\n",
              "      <th>bin_1</th>\n",
              "      <th>bin_2</th>\n",
              "      <th>bin_3</th>\n",
              "      <th>bin_4</th>\n",
              "      <th>nom_0</th>\n",
              "      <th>nom_1</th>\n",
              "      <th>nom_2</th>\n",
              "      <th>nom_3</th>\n",
              "      <th>nom_4</th>\n",
              "      <th>nom_5</th>\n",
              "      <th>nom_6</th>\n",
              "      <th>nom_7</th>\n",
              "      <th>nom_8</th>\n",
              "      <th>nom_9</th>\n",
              "      <th>ord_0</th>\n",
              "      <th>ord_1</th>\n",
              "      <th>ord_2</th>\n",
              "      <th>ord_3</th>\n",
              "      <th>ord_4</th>\n",
              "      <th>ord_5</th>\n",
              "      <th>day</th>\n",
              "      <th>month</th>\n",
              "      <th>target</th>\n",
              "    </tr>\n",
              "  </thead>\n",
              "  <tbody>\n",
              "    <tr>\n",
              "      <th>0</th>\n",
              "      <td>0</td>\n",
              "      <td>0</td>\n",
              "      <td>0</td>\n",
              "      <td>0</td>\n",
              "      <td>1</td>\n",
              "      <td>1</td>\n",
              "      <td>Green</td>\n",
              "      <td>Triangle</td>\n",
              "      <td>Snake</td>\n",
              "      <td>Finland</td>\n",
              "      <td>Bassoon</td>\n",
              "      <td>50f116bcf</td>\n",
              "      <td>3ac1b8814</td>\n",
              "      <td>68f6ad3e9</td>\n",
              "      <td>c389000ab</td>\n",
              "      <td>2f4cb3d51</td>\n",
              "      <td>2</td>\n",
              "      <td>Grandmaster</td>\n",
              "      <td>Cold</td>\n",
              "      <td>h</td>\n",
              "      <td>D</td>\n",
              "      <td>kr</td>\n",
              "      <td>2</td>\n",
              "      <td>2</td>\n",
              "      <td>0</td>\n",
              "    </tr>\n",
              "    <tr>\n",
              "      <th>1</th>\n",
              "      <td>1</td>\n",
              "      <td>0</td>\n",
              "      <td>1</td>\n",
              "      <td>0</td>\n",
              "      <td>1</td>\n",
              "      <td>1</td>\n",
              "      <td>Green</td>\n",
              "      <td>Trapezoid</td>\n",
              "      <td>Hamster</td>\n",
              "      <td>Russia</td>\n",
              "      <td>Piano</td>\n",
              "      <td>b3b4d25d0</td>\n",
              "      <td>fbcb50fc1</td>\n",
              "      <td>3b6dd5612</td>\n",
              "      <td>4cd920251</td>\n",
              "      <td>f83c56c21</td>\n",
              "      <td>1</td>\n",
              "      <td>Grandmaster</td>\n",
              "      <td>Hot</td>\n",
              "      <td>a</td>\n",
              "      <td>A</td>\n",
              "      <td>bF</td>\n",
              "      <td>7</td>\n",
              "      <td>8</td>\n",
              "      <td>0</td>\n",
              "    </tr>\n",
              "    <tr>\n",
              "      <th>2</th>\n",
              "      <td>2</td>\n",
              "      <td>0</td>\n",
              "      <td>0</td>\n",
              "      <td>0</td>\n",
              "      <td>0</td>\n",
              "      <td>1</td>\n",
              "      <td>Blue</td>\n",
              "      <td>Trapezoid</td>\n",
              "      <td>Lion</td>\n",
              "      <td>Russia</td>\n",
              "      <td>Theremin</td>\n",
              "      <td>3263bdce5</td>\n",
              "      <td>0922e3cb8</td>\n",
              "      <td>a6a36f527</td>\n",
              "      <td>de9c9f684</td>\n",
              "      <td>ae6800dd0</td>\n",
              "      <td>1</td>\n",
              "      <td>Expert</td>\n",
              "      <td>Lava Hot</td>\n",
              "      <td>h</td>\n",
              "      <td>R</td>\n",
              "      <td>Jc</td>\n",
              "      <td>7</td>\n",
              "      <td>2</td>\n",
              "      <td>0</td>\n",
              "    </tr>\n",
              "    <tr>\n",
              "      <th>3</th>\n",
              "      <td>3</td>\n",
              "      <td>0</td>\n",
              "      <td>1</td>\n",
              "      <td>0</td>\n",
              "      <td>0</td>\n",
              "      <td>1</td>\n",
              "      <td>Red</td>\n",
              "      <td>Trapezoid</td>\n",
              "      <td>Snake</td>\n",
              "      <td>Canada</td>\n",
              "      <td>Oboe</td>\n",
              "      <td>f12246592</td>\n",
              "      <td>50d7ad46a</td>\n",
              "      <td>ec69236eb</td>\n",
              "      <td>4ade6ab69</td>\n",
              "      <td>8270f0d71</td>\n",
              "      <td>1</td>\n",
              "      <td>Grandmaster</td>\n",
              "      <td>Boiling Hot</td>\n",
              "      <td>i</td>\n",
              "      <td>D</td>\n",
              "      <td>kW</td>\n",
              "      <td>2</td>\n",
              "      <td>1</td>\n",
              "      <td>1</td>\n",
              "    </tr>\n",
              "    <tr>\n",
              "      <th>4</th>\n",
              "      <td>4</td>\n",
              "      <td>0</td>\n",
              "      <td>0</td>\n",
              "      <td>0</td>\n",
              "      <td>0</td>\n",
              "      <td>0</td>\n",
              "      <td>Red</td>\n",
              "      <td>Trapezoid</td>\n",
              "      <td>Lion</td>\n",
              "      <td>Canada</td>\n",
              "      <td>Oboe</td>\n",
              "      <td>5b0f5acd5</td>\n",
              "      <td>1fe17a1fd</td>\n",
              "      <td>04ddac2be</td>\n",
              "      <td>cb43ab175</td>\n",
              "      <td>b164b72a7</td>\n",
              "      <td>1</td>\n",
              "      <td>Grandmaster</td>\n",
              "      <td>Freezing</td>\n",
              "      <td>a</td>\n",
              "      <td>R</td>\n",
              "      <td>qP</td>\n",
              "      <td>7</td>\n",
              "      <td>8</td>\n",
              "      <td>0</td>\n",
              "    </tr>\n",
              "  </tbody>\n",
              "</table>\n",
              "</div>"
            ],
            "text/plain": [
              "   id  bin_0  bin_1  bin_2 bin_3 bin_4  ... ord_3 ord_4 ord_5 day month target\n",
              "0   0      0      0      0     1     1  ...     h     D    kr   2     2      0\n",
              "1   1      0      1      0     1     1  ...     a     A    bF   7     8      0\n",
              "2   2      0      0      0     0     1  ...     h     R    Jc   7     2      0\n",
              "3   3      0      1      0     0     1  ...     i     D    kW   2     1      1\n",
              "4   4      0      0      0     0     0  ...     a     R    qP   7     8      0\n",
              "\n",
              "[5 rows x 25 columns]"
            ]
          },
          "metadata": {
            "tags": []
          },
          "execution_count": 38
        }
      ]
    },
    {
      "cell_type": "code",
      "metadata": {
        "id": "a3_r7Xetvsc3",
        "colab_type": "code",
        "colab": {}
      },
      "source": [
        "# Binary Data\n",
        "\n",
        "## Non-numeric binary data to 1's and 0's\n",
        "def bin_to_10(np_array, one='T', zero='F'):\n",
        "    np_array[np_array == one]  = 1\n",
        "    np_array[np_array == zero] = 0\n",
        "    \"\"\" Q: Why is there no return value?\n",
        "        A: np arrays are passed by reference, so modifying them in a function\n",
        "           also modifies them outside \"\"\"\n",
        "\n",
        "bin_to_10(data['bin_3'].to_numpy(), one='T', zero='F')\n",
        "bin_to_10(data['bin_4'].to_numpy(), one='Y', zero='N')"
      ],
      "execution_count": 0,
      "outputs": []
    },
    {
      "cell_type": "code",
      "metadata": {
        "id": "w2E8TigEEt7o",
        "colab_type": "code",
        "colab": {}
      },
      "source": [
        "# Nominal Data\n",
        "for i in range(7):\n",
        "    data = pd.get_dummies(raw_data, columns=[f'nom_{i}'], prefix = [f'nom_{i}'])\n",
        "    \"\"\" Each nom_* column is transformed into a 1-hot vector\n",
        "\n",
        "        E.g.: nom_0 has 3 distinct categories: 'Red', 'Green', 'Blue'. 1-hot\n",
        "              encoding turns it into 3 columns consisting of only 1's and 0's\n",
        "              so that:\n",
        "                    nom_0 = ['Green', 'Green', 'Blue', 'Red', ...]\n",
        "              becomes 3 columns:\n",
        "                    nom_0_Blue  = [1, 1, 0, 0, ...]\n",
        "                    nom_0_Green = [0, 0, 1, 0, ...]\n",
        "                    nom_0_Red   = [0, 0, 0, 1, ...] \"\"\""
      ],
      "execution_count": 0,
      "outputs": []
    },
    {
      "cell_type": "code",
      "metadata": {
        "id": "hLYoACCVKW5D",
        "colab_type": "code",
        "colab": {}
      },
      "source": [
        "# Ordinal Data"
      ],
      "execution_count": 0,
      "outputs": []
    }
  ]
}