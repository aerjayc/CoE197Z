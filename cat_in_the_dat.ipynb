{
  "nbformat": 4,
  "nbformat_minor": 0,
  "metadata": {
    "colab": {
      "name": "cat-in-the-dat.ipynb",
      "version": "0.3.2",
      "provenance": [],
      "include_colab_link": true
    },
    "kernelspec": {
      "name": "python3",
      "display_name": "Python 3"
    },
    "accelerator": "GPU"
  },
  "cells": [
    {
      "cell_type": "markdown",
      "metadata": {
        "id": "view-in-github",
        "colab_type": "text"
      },
      "source": [
        "<a href=\"https://colab.research.google.com/github/aerjayc/CoE197Z/blob/master/cat_in_the_dat.ipynb\" target=\"_parent\"><img src=\"https://colab.research.google.com/assets/colab-badge.svg\" alt=\"Open In Colab\"/></a>"
      ]
    },
    {
      "cell_type": "code",
      "metadata": {
        "id": "13Uj79X1J9Dg",
        "colab_type": "code",
        "colab": {
          "base_uri": "https://localhost:8080/",
          "height": 119
        },
        "outputId": "31880fd7-039f-4888-ea43-08841beef461"
      },
      "source": [
        "!git clone https://github.com/aerjayc/CoE197Z.git\n",
        "!cp \"CoE197Z/train.csv\" .\n",
        "!cp \"CoE197Z/test.csv\" .\n",
        "!cp \"CoE197Z/sample_submission.csv\" .\n",
        "!ls"
      ],
      "execution_count": 1,
      "outputs": [
        {
          "output_type": "stream",
          "text": [
            "Cloning into 'CoE197Z'...\n",
            "remote: Enumerating objects: 17, done.\u001b[K\n",
            "remote: Counting objects: 100% (17/17), done.\u001b[K\n",
            "remote: Compressing objects: 100% (14/14), done.\u001b[K\n",
            "remote: Total 17 (delta 2), reused 13 (delta 1), pack-reused 0\u001b[K\n",
            "Unpacking objects: 100% (17/17), done.\n"
          ],
          "name": "stdout"
        }
      ]
    },
    {
      "cell_type": "code",
      "metadata": {
        "id": "iZ_0uDKS3aZr",
        "colab_type": "code",
        "colab": {}
      },
      "source": [
        "###Reyes, Marcus\n",
        "###CoE 197Z Project 1\n",
        "###Kaggle-https://www.kaggle.com/c/cat-in-the-dat\n",
        "\n",
        "import pandas as pd\n",
        "import keras\n",
        "import numpy as np\n",
        "from numpy import genfromtxt\n",
        "\n",
        "from keras.models import Sequential\n",
        "from keras.layers import Dense,Activation,Dropout\n",
        "from keras.optimizers import adam\n",
        "\n",
        "from sklearn import preprocessing\n",
        "\n",
        "###Data preprocessing\n",
        "data = pd.read_csv(\"train.csv\")\n",
        "\n",
        "# For now ignore the data you don't know how to handle\n",
        "drop = ['id', 'nom_9']              # why is nom_9 dropped?\n",
        "data = data.drop(columns = drop)"
      ],
      "execution_count": 0,
      "outputs": []
    },
    {
      "cell_type": "code",
      "metadata": {
        "id": "HGCVOA8A_-dZ",
        "colab_type": "code",
        "colab": {}
      },
      "source": [
        "#Categorical to one_hot\n",
        "#https://www.datacamp.com/community/tutorials/categorical-data#encoding\n",
        "one_hot = ['bin_3', 'bin_4','nom_0','nom_1','nom_2','nom_3','nom_4','ord_1', 'ord_2', 'ord_3', 'ord_4','ord_5','day','month', 'nom_5']\n",
        "\n",
        "#Categorical to labelled\n",
        "labelled = ['nom_6','nom_7', 'nom_8']\n",
        "\n",
        "for w in one_hot:      # turn very category into a 1-hot vector\n",
        "    data = pd.get_dummies(data, columns=[w], prefix = [w])\n",
        "print(data.values.shape)"
      ],
      "execution_count": 0,
      "outputs": []
    },
    {
      "cell_type": "code",
      "metadata": {
        "id": "aHl8H-3VhT94",
        "colab_type": "code",
        "colab": {
          "base_uri": "https://localhost:8080/",
          "height": 34
        },
        "outputId": "fbf5556b-9a5d-438d-a490-4985e99bb4e1"
      },
      "source": [
        "data['target'].to_numpy().shape"
      ],
      "execution_count": 104,
      "outputs": [
        {
          "output_type": "execute_result",
          "data": {
            "text/plain": [
              "(300000,)"
            ]
          },
          "metadata": {
            "tags": []
          },
          "execution_count": 104
        }
      ]
    },
    {
      "cell_type": "code",
      "metadata": {
        "id": "hK1ejipD39LM",
        "colab_type": "code",
        "colab": {}
      },
      "source": [
        "# changes the columns specified in label to indices\n",
        "for w in labelled:\n",
        "    labels = data[w].astype('category').cat.categories.tolist()\n",
        "    # labels = distinct elements in data[w] (i.e. categories)\n",
        "    # e.g.: labels of 'bin_3' = 'T', 'F'\n",
        "\n",
        "    replace_map_comp = {w: {k: v for k,v in zip(labels,list(range(1,len(labels)+1)))}}\n",
        "    # assigns an index to each label\n",
        "    \"\"\"\n",
        "    {\n",
        "        'nom_6': {\n",
        "            '0000ee65f': 1,\n",
        "            '00e9c15b8': 2,\n",
        "            '01455237a': 3,\n",
        "            ...\n",
        "            'ffc60be1c': 522\n",
        "        },\n",
        "        ...\n",
        "    }\n",
        "    \"\"\"\n",
        "\n",
        "    data.replace(replace_map_comp, inplace=True)\n",
        "    # the 'nom_6' column in data becomes is indexed wrt replace_map_comp\n",
        "    \"\"\"\n",
        "        nom_6\n",
        "     0   121\n",
        "     1   511\n",
        "     2   15\n",
        "     3   ...\n",
        "    \"\"\"\n",
        "\n",
        "    del labels, replace_map_comp\n",
        "    \n",
        "    print(data[w])\n",
        "\n",
        "y_train = data['target'].to_numpy() # convert to numpy array\n",
        "# print(y_train.shape)\n",
        "y_train = keras.utils.to_categorical(y_train, 2)\n",
        "\n",
        "data = data.drop(columns = ['target'])\n",
        "\n",
        "x = data.to_numpy()\n",
        "\n",
        "###Normalize data to large to be one-hot-encoded\n",
        "min_max_scaler = preprocessing.MinMaxScaler()\n",
        "x = min_max_scaler.fit_transform(x)\n",
        "\n",
        "# print(x[4,:])\n",
        "# print(x[7,:])\n",
        "x_train = x[:240000,:]\n",
        "x_pretest = x[240000:,:]\n",
        "\n",
        "y_pretest = y_train[240000:,:]\n",
        "y_train = y_train[:240000,:]"
      ],
      "execution_count": 0,
      "outputs": []
    },
    {
      "cell_type": "code",
      "metadata": {
        "id": "eko641I26y9l",
        "colab_type": "code",
        "colab": {}
      },
      "source": [
        "###Model\n",
        "\n",
        "hidden = 2048\n",
        "dropout = 0.25\n",
        "(trash, input_dim) = x.shape\n",
        "model = Sequential()\n",
        "\n",
        "model.add(Dense(hidden, input_dim = input_dim))\n",
        "model.add(Dropout(dropout))\n",
        "model.add(Activation('relu'))\n",
        "\n",
        "model.add(Dense(hidden,input_dim = hidden))\n",
        "model.add(Dropout(dropout))\n",
        "model.add(Activation('relu'))\n",
        "\n",
        "model.add(Dense(hidden,input_dim = hidden))\n",
        "model.add(Dropout(dropout))\n",
        "model.add(Activation('relu'))\n",
        "\n",
        "model.add(Dense(2,input_dim = hidden))\n",
        "model.add(Activation('softmax'))\n",
        "\n",
        "model.summary()\n",
        "\n",
        "model.compile(loss='binary_crossentropy', optimizer = 'adam', metrics = ['accuracy'])\n",
        "\n",
        "###To keep track of validation error\n",
        "for i in range(7):\n",
        "\n",
        "    model.fit(x_train, y_train, epochs = 2, batch_size = 4096*8)\n",
        "\n",
        "    score = model.evaluate(x_pretest, y_pretest, batch_size = 512)\n",
        "    print(\"\\nTest accuacy: %.1f%%\" % (100.0 * score[1]))"
      ],
      "execution_count": 0,
      "outputs": []
    },
    {
      "cell_type": "code",
      "metadata": {
        "id": "k5gf8-mt7Akt",
        "colab_type": "code",
        "colab": {}
      },
      "source": [
        "###Testing\n",
        "try:\n",
        "    del data\n",
        "except:\n",
        "    pass\n",
        " \n",
        "data = pd.read_csv(\"test.csv\")\n",
        "data = data.drop(columns = drop)\n",
        "\n",
        "\n",
        "for i,w in enumerate(one_hot):\n",
        "   data = pd.get_dummies(data, columns=[w], prefix = [w])\n",
        "\n",
        "\n",
        "for i,w in enumerate(labelled):\n",
        "    labels = data[w].astype('category').cat.categories.tolist()\n",
        "\n",
        "    replace_map_comp = {w: {k: v for k,v in zip(labels,list(range(1,len(labels)+1)))}}\n",
        "\n",
        "    data.replace(replace_map_comp, inplace=True)\n",
        "    \n",
        "    del labels, replace_map_comp\n",
        "    \n",
        "    print(data[w])"
      ],
      "execution_count": 0,
      "outputs": []
    },
    {
      "cell_type": "code",
      "metadata": {
        "id": "W48PsDhg63be",
        "colab_type": "code",
        "colab": {}
      },
      "source": [
        "x_test = data.to_numpy()\n",
        "\n",
        "min_max_scaler = preprocessing.MinMaxScaler()\n",
        "x_test = min_max_scaler.fit_transform(x_test)\n",
        "# print(\"X_testshape\",x_test.shape)\n",
        "y_test = model.predict(x_test)\n",
        "\n",
        "\n",
        "\n",
        "###Formatting into csv submittable\n",
        "id = np.arange(start = 300000, stop = 500000)\n",
        "id = np.transpose(id)\n",
        "id = id.reshape(200000,1)\n",
        "y_temp = y_test[:,1].reshape(200000,1)\n",
        "y_pred = np.concatenate((id, y_temp), axis = 1)\n",
        "print(id.shape)\n",
        "print(y_test[:,0].shape)\n",
        "print(y_pred.shape)\n",
        "presubmission = pd.DataFrame(y_pred)\n",
        "\n",
        "presubmission.iloc[:,0] = presubmission.iloc[:,0].astype(int)\n",
        "presubmission.iloc[:,1] = presubmission.iloc[:,1].astype(float)\n",
        "\n",
        "\n",
        "presubmission.to_csv(\"submission.csv\",header = [\"id\",\"target\"],index = False)"
      ],
      "execution_count": 0,
      "outputs": []
    }
  ]
}