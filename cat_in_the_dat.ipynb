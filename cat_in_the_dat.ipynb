{
  "nbformat": 4,
  "nbformat_minor": 0,
  "metadata": {
    "colab": {
      "name": "cat-in-the-dat.ipynb",
      "version": "0.3.2",
      "provenance": [],
      "collapsed_sections": [],
      "include_colab_link": true
    },
    "kernelspec": {
      "name": "python3",
      "display_name": "Python 3"
    },
    "accelerator": "GPU"
  },
  "cells": [
    {
      "cell_type": "markdown",
      "metadata": {
        "id": "view-in-github",
        "colab_type": "text"
      },
      "source": [
        "<a href=\"https://colab.research.google.com/github/aerjayc/CoE197Z/blob/master/cat_in_the_dat.ipynb\" target=\"_parent\"><img src=\"https://colab.research.google.com/assets/colab-badge.svg\" alt=\"Open In Colab\"/></a>"
      ]
    },
    {
      "cell_type": "code",
      "metadata": {
        "id": "13Uj79X1J9Dg",
        "colab_type": "code",
        "outputId": "4a85e90c-2055-44bd-d97c-3249cdd41190",
        "colab": {
          "base_uri": "https://localhost:8080/",
          "height": 51
        }
      },
      "source": [
        "!git clone https://github.com/aerjayc/CoE197Z.git\n",
        "!cp \"CoE197Z/train.csv\" .\n",
        "!cp \"CoE197Z/test.csv\" .\n",
        "!cp \"CoE197Z/sample_submission.csv\" .\n",
        "!ls"
      ],
      "execution_count": 121,
      "outputs": [
        {
          "output_type": "stream",
          "text": [
            "fatal: destination path 'CoE197Z' already exists and is not an empty directory.\n",
            "CoE197Z  gdrive  sample_data  sample_submission.csv  test.csv  train.csv\n"
          ],
          "name": "stdout"
        }
      ]
    },
    {
      "cell_type": "code",
      "metadata": {
        "id": "iZ_0uDKS3aZr",
        "colab_type": "code",
        "colab": {}
      },
      "source": [
        "###Reyes, Marcus\n",
        "###CoE 197Z Project 1\n",
        "###Kaggle-https://www.kaggle.com/c/cat-in-the-dat\n",
        "\n",
        "import pandas as pd\n",
        "import keras\n",
        "import numpy as np\n",
        "from numpy import genfromtxt\n",
        "\n",
        "from keras.models import Sequential\n",
        "from keras.layers import Dense,Activation,Dropout\n",
        "from keras.optimizers import adam\n",
        "\n",
        "from sklearn import preprocessing\n",
        "\n",
        "###Data preprocessing\n",
        "data = pd.read_csv(\"train.csv\")\n",
        "\n",
        "# For now ignore the data you don't know how to handle\n",
        "drop = ['id', 'nom_9']              # why is nom_9 dropped?\n",
        "data = data.drop(columns = drop)"
      ],
      "execution_count": 0,
      "outputs": []
    },
    {
      "cell_type": "code",
      "metadata": {
        "id": "HGCVOA8A_-dZ",
        "colab_type": "code",
        "colab": {}
      },
      "source": [
        "#Categorical to one_hot\n",
        "#https://www.datacamp.com/community/tutorials/categorical-data#encoding\n",
        "one_hot = ['bin_3', 'bin_4','nom_0','nom_1','nom_2','nom_3','nom_4','ord_1', 'ord_2', 'ord_3', 'ord_4','ord_5','day','month', 'nom_5']\n",
        "\n",
        "#Categorical to labelled\n",
        "labelled = ['nom_6','nom_7', 'nom_8']\n",
        "\n",
        "for w in one_hot:      # turn very category into a 1-hot vector\n",
        "    data = pd.get_dummies(data, columns=[w], prefix = [w])"
      ],
      "execution_count": 0,
      "outputs": []
    },
    {
      "cell_type": "code",
      "metadata": {
        "id": "hK1ejipD39LM",
        "colab_type": "code",
        "colab": {}
      },
      "source": [
        "# changes the columns specified in label to indices\n",
        "for w in labelled:\n",
        "    labels = data[w].astype('category').cat.categories.tolist()\n",
        "    \"\"\" labels = distinct elements in data[w] (i.e. categories)\n",
        "        e.g.: labels of 'bin_3' = 'T', 'F' \"\"\"\n",
        "\n",
        "    replace_map_comp = {w: {k: v for k,v in zip(labels,list(range(1,len(labels)+1)))}}\n",
        "    \"\"\" assigns an index to each label\n",
        "        {\n",
        "            'nom_6': {\n",
        "                '0000ee65f': 1,\n",
        "                '00e9c15b8': 2,\n",
        "                '01455237a': 3,\n",
        "                ...\n",
        "                'ffc60be1c': 522\n",
        "            },\n",
        "            ...\n",
        "        } \"\"\"\n",
        "\n",
        "    data.replace(replace_map_comp, inplace=True)\n",
        "    \"\"\" the 'nom_6' column in data becomes is indexed wrt replace_map_comp\n",
        "            nom_6\n",
        "        0   121\n",
        "        1   511\n",
        "        2   15\n",
        "        3   ... \"\"\"\n",
        "\n",
        "    del labels, replace_map_comp\n",
        "\n",
        "    print(data[w])\n",
        "\n",
        "\n",
        "y_train = data['target'].to_numpy()             # convert to numpy array\n",
        "y_train = keras.utils.to_categorical(y_train)   # convert 'target' col to 1-hot\n",
        "\n",
        "data = data.drop(columns = ['target'])\n",
        "\n",
        "x = data.to_numpy() # conver to numpy array\n",
        "                    # row in x = row entry in data\n",
        "\n",
        "###Normalize data to large to be one-hot-encoded\n",
        "min_max_scaler = preprocessing.MinMaxScaler()\n",
        "x = min_max_scaler.fit_transform(x)         # each column is scaled so that\n",
        "                                            # min = 0, max = 1"
      ],
      "execution_count": 0,
      "outputs": []
    },
    {
      "cell_type": "code",
      "metadata": {
        "id": "OC4RCO2AoByk",
        "colab_type": "code",
        "colab": {
          "base_uri": "https://localhost:8080/",
          "height": 493
        },
        "outputId": "acbdfc97-1380-4052-dd9e-c342f2855c9b"
      },
      "source": [
        "from keras.models import Sequential\n",
        "from keras.layers import Dense, Activation, Dropout\n",
        "from keras import regularizers\n",
        "from keras import optimizers\n",
        "\n",
        "# hyperparameters\n",
        "\n",
        "hidden_units = 2048\n",
        "output_units = 1\n",
        "_, input_dim = x.shape\n",
        "batch_size   = 32\n",
        "\n",
        "dropout_rate = 0\n",
        "l2_weight    = 0\n",
        "\n",
        "kernel_regularizer = regularizers.l2(l2_weight)\n",
        "optimizer = optimizers.RMSprop()\n",
        "\n",
        "\n",
        "###Model\n",
        "model = Sequential()\n",
        "\n",
        "model.add(Dense(hidden_units,\n",
        "                       input_dim=input_dim,\n",
        "                       kernel_regularizer=kernel_regularizer))\n",
        "model.add(Activation('relu'))\n",
        "model.add(Dropout(dropout_rate))\n",
        "\n",
        "model.add(Dense(hidden_units, kernel_regularizer=kernel_regularizer))\n",
        "model.add(Activation('relu'))\n",
        "model.add(Dropout(dropout_rate))\n",
        "\n",
        "\n",
        "model.add(Dense(hidden_units, kernel_regularizer=kernel_regularizer))\n",
        "model.add(Activation('relu'))\n",
        "model.add(Dropout(dropout_rate))\n",
        "\n",
        "model.add(Dense(output_units, activation='sigmoid'))\n",
        "\n",
        "model.compile(optimizer=optimizer,\n",
        "              loss='binary_crossentropy',\n",
        "              metrics=['accuracy'])\n",
        "\n",
        "model.summary()"
      ],
      "execution_count": 119,
      "outputs": [
        {
          "output_type": "stream",
          "text": [
            "Model: \"sequential_3\"\n",
            "_________________________________________________________________\n",
            "Layer (type)                 Output Shape              Param #   \n",
            "=================================================================\n",
            "dense_5 (Dense)              (None, 2048)              1069056   \n",
            "_________________________________________________________________\n",
            "activation_4 (Activation)    (None, 2048)              0         \n",
            "_________________________________________________________________\n",
            "dropout_4 (Dropout)          (None, 2048)              0         \n",
            "_________________________________________________________________\n",
            "dense_6 (Dense)              (None, 2048)              4196352   \n",
            "_________________________________________________________________\n",
            "activation_5 (Activation)    (None, 2048)              0         \n",
            "_________________________________________________________________\n",
            "dropout_5 (Dropout)          (None, 2048)              0         \n",
            "_________________________________________________________________\n",
            "dense_7 (Dense)              (None, 2048)              4196352   \n",
            "_________________________________________________________________\n",
            "activation_6 (Activation)    (None, 2048)              0         \n",
            "_________________________________________________________________\n",
            "dropout_6 (Dropout)          (None, 2048)              0         \n",
            "_________________________________________________________________\n",
            "dense_8 (Dense)              (None, 1)                 2049      \n",
            "=================================================================\n",
            "Total params: 9,463,809\n",
            "Trainable params: 9,463,809\n",
            "Non-trainable params: 0\n",
            "_________________________________________________________________\n"
          ],
          "name": "stdout"
        }
      ]
    },
    {
      "cell_type": "code",
      "metadata": {
        "id": "WCyWO3WGs1np",
        "colab_type": "code",
        "colab": {}
      },
      "source": [
        "history = model.fit(x_train, y_train, validation_split=0.2,\n",
        "                      epochs=epochs, batch_size=batch_size)"
      ],
      "execution_count": 0,
      "outputs": []
    },
    {
      "cell_type": "code",
      "metadata": {
        "id": "hNZxbq8wu72K",
        "colab_type": "code",
        "colab": {}
      },
      "source": [
        "plot_loss(history.history['loss'], history.history['val_loss'])"
      ],
      "execution_count": 0,
      "outputs": []
    },
    {
      "cell_type": "code",
      "metadata": {
        "id": "60xnuTq5urTF",
        "colab_type": "code",
        "colab": {}
      },
      "source": [
        "import matplotlib.pyplot as plt\n",
        "\n",
        "def plot_loss(loss, val_loss, N=1, ignore_initial=0, ignore_initial_val=0):\n",
        "  loss = loss[ignore_initial:]\n",
        "  val_loss = val_loss[ignore_initial_val:]\n",
        "\n",
        "  loss = np.convolve(loss, np.ones((N,))/N, mode='valid')\n",
        "  N_val = (len(val_loss)*N//len(loss))\n",
        "  if N_val:\n",
        "    val_loss = np.convolve(val_loss, np.ones((N_val,))/N_val, mode='valid')\n",
        "\n",
        "  train_axis = (np.arange(1, len(loss) + 1) * (len(val_loss)/len(loss)))\n",
        "  val_axis = np.arange(1, len(val_loss) + 1)\n",
        "\n",
        "  plt.plot(train_axis, loss, 'bo', label='Training loss')\n",
        "  plt.plot(val_axis, val_loss, 'r', label='Validation loss')\n",
        "\n",
        "  plt.title('Training and Validation Loss')\n",
        "  plt.xlabel('Epochs')\n",
        "  plt.ylabel('Loss')\n",
        "  plt.legend()\n",
        "\n",
        "  plt.show()"
      ],
      "execution_count": 0,
      "outputs": []
    },
    {
      "cell_type": "markdown",
      "metadata": {
        "id": "4LRcR1V0oEn7",
        "colab_type": "text"
      },
      "source": [
        "\n",
        "\n",
        "---\n",
        "\n"
      ]
    },
    {
      "cell_type": "code",
      "metadata": {
        "id": "eko641I26y9l",
        "colab_type": "code",
        "colab": {}
      },
      "source": [
        "x_train = x[:240000,:]\n",
        "x_pretest = x[240000:,:]\n",
        "\n",
        "y_pretest = y_train[240000:,:]\n",
        "y_train = y_train[:240000,:]\n",
        "\n",
        "###Model\n",
        "\n",
        "hidden = 2048\n",
        "dropout = 0.25\n",
        "(trash, input_dim) = x.shape\n",
        "model = Sequential()\n",
        "\n",
        "model.add(Dense(hidden, input_dim = input_dim))\n",
        "model.add(Dropout(dropout))\n",
        "model.add(Activation('relu'))\n",
        "\n",
        "model.add(Dense(hidden,input_dim = hidden))\n",
        "model.add(Dropout(dropout))\n",
        "model.add(Activation('relu'))\n",
        "\n",
        "model.add(Dense(hidden,input_dim = hidden))\n",
        "model.add(Dropout(dropout))\n",
        "model.add(Activation('relu'))\n",
        "\n",
        "model.add(Dense(2,input_dim = hidden))\n",
        "model.add(Activation('softmax'))\n",
        "\n",
        "model.summary()\n",
        "\n",
        "model.compile(loss='binary_crossentropy', optimizer = 'adam', metrics = ['accuracy'])\n",
        "\n",
        "###To keep track of validation error\n",
        "for i in range(7):\n",
        "\n",
        "    model.fit(x_train, y_train, epochs = 2, batch_size = 4096*8)\n",
        "\n",
        "    score = model.evaluate(x_pretest, y_pretest, batch_size = 512)\n",
        "    print(\"\\nTest accuacy: %.1f%%\" % (100.0 * score[1]))"
      ],
      "execution_count": 0,
      "outputs": []
    },
    {
      "cell_type": "code",
      "metadata": {
        "id": "k5gf8-mt7Akt",
        "colab_type": "code",
        "colab": {}
      },
      "source": [
        "###Testing\n",
        "try:\n",
        "    del data\n",
        "except:\n",
        "    pass\n",
        " \n",
        "data = pd.read_csv(\"test.csv\")\n",
        "data = data.drop(columns = drop)\n",
        "\n",
        "\n",
        "for i,w in enumerate(one_hot):\n",
        "   data = pd.get_dummies(data, columns=[w], prefix = [w])\n",
        "\n",
        "\n",
        "for i,w in enumerate(labelled):\n",
        "    labels = data[w].astype('category').cat.categories.tolist()\n",
        "\n",
        "    replace_map_comp = {w: {k: v for k,v in zip(labels,list(range(1,len(labels)+1)))}}\n",
        "\n",
        "    data.replace(replace_map_comp, inplace=True)\n",
        "    \n",
        "    del labels, replace_map_comp\n",
        "    \n",
        "    print(data[w])"
      ],
      "execution_count": 0,
      "outputs": []
    },
    {
      "cell_type": "code",
      "metadata": {
        "id": "W48PsDhg63be",
        "colab_type": "code",
        "colab": {}
      },
      "source": [
        "x_test = data.to_numpy()\n",
        "\n",
        "min_max_scaler = preprocessing.MinMaxScaler()\n",
        "x_test = min_max_scaler.fit_transform(x_test)\n",
        "# print(\"X_testshape\",x_test.shape)\n",
        "y_test = model.predict(x_test)\n",
        "\n",
        "\n",
        "\n",
        "###Formatting into csv submittable\n",
        "id = np.arange(start = 300000, stop = 500000)\n",
        "id = np.transpose(id)\n",
        "id = id.reshape(200000,1)\n",
        "y_temp = y_test[:,1].reshape(200000,1)\n",
        "y_pred = np.concatenate((id, y_temp), axis = 1)\n",
        "print(id.shape)\n",
        "print(y_test[:,0].shape)\n",
        "print(y_pred.shape)\n",
        "presubmission = pd.DataFrame(y_pred)\n",
        "\n",
        "presubmission.iloc[:,0] = presubmission.iloc[:,0].astype(int)\n",
        "presubmission.iloc[:,1] = presubmission.iloc[:,1].astype(float)\n",
        "\n",
        "\n",
        "presubmission.to_csv(\"submission.csv\",header = [\"id\",\"target\"],index = False)"
      ],
      "execution_count": 0,
      "outputs": []
    }
  ]
}